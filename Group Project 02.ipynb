{
 "cells": [
  {
   "cell_type": "markdown",
   "id": "da67e05e-b527-4bbd-a63c-5c59464d476b",
   "metadata": {},
   "source": [
    "COMPUTER SCIENCE PROJECT"
   ]
  },
  {
   "cell_type": "markdown",
   "id": "d98009a3-f59c-4486-abc8-464f348581f4",
   "metadata": {},
   "source": [
    "PROJECT TITLE: TIC-TAC-TOE GAME"
   ]
  },
  {
   "cell_type": "markdown",
   "id": "994f34f7-552b-4d95-b5f7-60d7b914244c",
   "metadata": {},
   "source": [
    "TEAM MEMBERS:\n",
    "1. NANDAR LIN\n",
    "2. MADUBASHINI RATHNAYAKE\n",
    "3. OLUKAYODE DAVID OLUDEMI\n",
    "4. HARRAM ZUBAIR\n",
    "5. PARDIS PATDAR"
   ]
  },
  {
   "cell_type": "markdown",
   "id": "8271d8cd-8e6b-4add-b7c3-ce2c18606d2f",
   "metadata": {},
   "source": [
    "PROJECT DESCRIPTION: This is a game called Tic-Tac-Toe and it is designed using Python Programming Language. As depicted in the code, the game is between two players called X and O playing against each other with three possible outcomes - Player X wins, Player O wins or Draw"
   ]
  },
  {
   "cell_type": "code",
   "execution_count": null,
   "id": "71ea1a79-eb78-46b7-ab63-04f1a7a0aaa9",
   "metadata": {},
   "outputs": [],
   "source": [
    "import ipywidgets as widgets\n",
    "from IPython.display import display, clear_output\n"
   ]
  },
  {
   "cell_type": "code",
   "execution_count": null,
   "id": "da87e148-3305-41a0-9cce-5d5498ce5339",
   "metadata": {},
   "outputs": [],
   "source": [
    "# Output container for the whole game\n",
    "game_out = widgets.Output()\n",
    "\n",
    "# Score tracking\n",
    "score_x = 0\n",
    "score_o = 0\n",
    "score_draw = 0\n",
    "score_label = widgets.HTML()\n",
    "\n",
    "def update_score_label():\n",
    "    score_label.value = f\"<b>Score:</b> X = {score_x} | O = {score_o} | Draws = {score_draw}\"\n",
    "\n",
    "# Reset scoreboard function\n",
    "def reset_score(b):\n",
    "    global score_x, score_o, score_draw\n",
    "    score_x = 0\n",
    "    score_o = 0\n",
    "    score_draw = 0\n",
    "    update_score_label()\n",
    "\n",
    "# Reset button for scoreboard\n",
    "reset_btn = widgets.Button(description=\"Reset Scoreboard\", button_style=\"warning\")\n",
    "reset_btn.on_click(reset_score)\n",
    "\n",
    "# Initialize scoreboard\n",
    "update_score_label()\n"
   ]
  },
  {
   "cell_type": "code",
   "execution_count": null,
   "id": "409cd909-69de-4963-b796-7af7ed2eb801",
   "metadata": {},
   "outputs": [],
   "source": [
    "def create_game():\n",
    "    with game_out:\n",
    "        clear_output()  # Clear old game before starting a new one\n",
    "        \n",
    "        # Initialize variables\n",
    "        board = [\"\"] * 9\n",
    "        current_player = \"X\"\n",
    "        buttons = []\n",
    "        result = widgets.HTML(value=\"<b style='color:blue'>Player X's turn</b>\")\n",
    "\n",
    "        # Function to check for a winner (return winner and winning line)\n",
    "        def check_winner():\n",
    "            winning_combos = [\n",
    "                (0,1,2), (3,4,5), (6,7,8), # rows\n",
    "                (0,3,6), (1,4,7), (2,5,8), # cols\n",
    "                (0,4,8), (2,4,6)           # diagonals\n",
    "            ]\n",
    "            for a,b,c in winning_combos:\n",
    "                if board[a] == board[b] == board[c] and board[a] != \"\":\n",
    "                    return board[a], (a,b,c)\n",
    "            if \"\" not in board:\n",
    "                return \"Draw\", None\n",
    "            return None, None\n"
   ]
  },
  {
   "cell_type": "code",
   "execution_count": null,
   "id": "7cad319b-353e-4b32-af09-7b98b465674a",
   "metadata": {},
   "outputs": [],
   "source": [
    "        # Handle button click\n",
    "        def on_button_click(b):\n",
    "            nonlocal current_player\n",
    "            global score_x, score_o, score_draw\n",
    "            index = int(b.tooltip)  # hidden index\n",
    "            if board[index] == \"\":\n",
    "                board[index] = current_player\n",
    "                if current_player == \"X\":\n",
    "                    b.description = \"X\"\n",
    "                    b.style.button_color = \"lightcoral\"\n",
    "                else:\n",
    "                    b.description = \"O\"\n",
    "                    b.style.button_color = \"lightgreen\"\n",
    "                b.disabled = True\n",
    "\n",
    "                winner, line = check_winner()\n",
    "                if winner:\n",
    "                    if winner == \"Draw\":\n",
    "                        result.value = \"<b style='color:gray'>It's a draw!</b>\"\n",
    "                        score_draw += 1\n",
    "                    else:\n",
    "                        color = \"red\" if winner == \"X\" else \"green\"\n",
    "                        result.value = f\"<b style='color:{color}'>Player {winner} wins!</b>\"\n",
    "                        # Highlight winning line\n",
    "                        for i in line:\n",
    "                            buttons[i].style.button_color = \"gold\"\n",
    "                        if winner == \"X\":\n",
    "                            score_x += 1\n",
    "                        else:\n",
    "                            score_o += 1\n",
    "\n",
    "                    # Update scoreboard\n",
    "                    update_score_label()\n",
    "\n",
    "                    for btn in buttons:\n",
    "                        btn.disabled = True\n",
    "                else:\n",
    "                    current_player = \"O\" if current_player == \"X\" else \"X\"\n",
    "                    color = \"blue\" if current_player == \"X\" else \"green\"\n",
    "                    result.value = f\"<b style='color:{color}'>Player {current_player}'s turn</b>\"\n",
    "\n",
    "        # Restart game\n",
    "        def restart_game(b):\n",
    "            create_game()  # Just recreate everything fresh\n"
   ]
  },
  {
   "cell_type": "code",
   "execution_count": null,
   "id": "e5eec6eb-9784-4dfe-b618-c94da7d229f9",
   "metadata": {},
   "outputs": [],
   "source": [
    "        # Create game buttons\n",
    "        for i in range(9):\n",
    "            btn = widgets.Button(description=\"\", layout=widgets.Layout(width=\"80px\", height=\"80px\"))\n",
    "            btn.tooltip = str(i)  # hidden index\n",
    "            btn.on_click(on_button_click)\n",
    "            buttons.append(btn)\n",
    "\n",
    "        # Arrange buttons in a grid\n",
    "        grid = widgets.GridBox(buttons, layout=widgets.Layout(grid_template_columns=\"repeat(3, 80px)\"))\n",
    "\n",
    "        # Restart button\n",
    "        restart_btn = widgets.Button(description=\"Restart Game\", button_style=\"info\")\n",
    "        restart_btn.on_click(restart_game)\n",
    "\n",
    "        # Display UI\n",
    "        display(score_label, reset_btn, grid, result, restart_btn)\n"
   ]
  },
  {
   "cell_type": "code",
   "execution_count": null,
   "id": "c96b941a-6564-4436-8427-f2fb3cfe6344",
   "metadata": {},
   "outputs": [],
   "source": [
    "# Start the game\n",
    "create_game()\n",
    "display(game_out)\n"
   ]
  }
 ],
 "metadata": {
  "kernelspec": {
   "display_name": "Python 3 (ipykernel)",
   "language": "python",
   "name": "python3"
  },
  "language_info": {
   "codemirror_mode": {
    "name": "ipython",
    "version": 3
   },
   "file_extension": ".py",
   "mimetype": "text/x-python",
   "name": "python",
   "nbconvert_exporter": "python",
   "pygments_lexer": "ipython3",
   "version": "3.13.5"
  }
 },
 "nbformat": 4,
 "nbformat_minor": 5
}
